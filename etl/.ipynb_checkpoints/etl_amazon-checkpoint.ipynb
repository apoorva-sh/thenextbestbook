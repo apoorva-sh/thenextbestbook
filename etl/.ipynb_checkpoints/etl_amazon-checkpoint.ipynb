{
 "cells": [
  {
   "cell_type": "code",
   "execution_count": 3,
   "metadata": {
    "collapsed": false
   },
   "outputs": [],
   "source": [
    "from pyspark import SparkConf, SparkContext\n",
    "from pyspark.sql import SparkSession"
   ]
  },
  {
   "cell_type": "code",
   "execution_count": 4,
   "metadata": {
    "collapsed": true
   },
   "outputs": [],
   "source": [
    "conf = SparkConf().setMaster(\"local\").setAppName(\"temp\")\n",
    "sc = SparkContext(conf = conf)\n",
    "\n",
    "spark = SparkSession \\\n",
    "    .builder \\\n",
    "    .appName(\"Python Spark SQL basic example\")  \\\n",
    "    .getOrCreate()"
   ]
  },
  {
   "cell_type": "code",
   "execution_count": null,
   "metadata": {
    "collapsed": true
   },
   "outputs": [],
   "source": [
    "df = spark.read.json(\"./temp.json\")\n",
    "#df.describe()\n",
    "#df.show()\n",
    "\n",
    "books = spark.read.json(\"./books.json\")\n",
    "\n",
    "books.printSchema()\n",
    "authors = spark.read.json(\"./authors.json\")\n",
    "authors.printSchema()\n",
    "\n",
    "\n",
    "books.createGlobalTempView(\"books\")\n",
    "\n",
    "authors.createGlobalTempView(\"authors\")\n",
    "\n",
    "\n",
    "books.filter(books[\"book_id\"] == \"18160903\").select(\"book_id\",\"title\").show()\n",
    "\n",
    "spark.sql(\"Select title,similar_books from global_temp.books \").show()\n",
    "booksWithAuthors = spark.sql(\"SELECT b.title,a.name FROM global_temp.books b, global_temp.authors a\"\n",
    "          \" where b.authors.author_id[0] = a.author_id\")\n",
    "\n",
    "booksWithAuthors.write.json(\"./booksauthors.json\")\n",
    "\n",
    "books.select(books['authors']['author_id']).show()\n",
    "\n",
    "\n",
    "simBooksrdd = spark.sql(\"Select book_id,title,similar_books from global_temp.books \").rdd\n",
    "\n",
    "#def getAllBookNames(x):\n",
    "#    for book in x.similar_books:\n",
    "#        books.filter(books[\"book_id\"] == \"18160903\").select(\"book_id\", \"title\").show()\n",
    "#    return x, 1\n",
    "\n",
    "\n",
    "#simBooksrdd = simBooksrdd.map(getAllBookNames)\n",
    "#print(simBooksrdd.take(10))\n",
    "#books.filter(books[\"book_id\"] == \"18160903\").select(\"book_id\",\"title\").show()"
   ]
  }
 ],
 "metadata": {
  "kernelspec": {
   "display_name": "Python 3",
   "language": "python",
   "name": "python3"
  },
  "language_info": {
   "codemirror_mode": {
    "name": "ipython",
    "version": 3
   },
   "file_extension": ".py",
   "mimetype": "text/x-python",
   "name": "python",
   "nbconvert_exporter": "python",
   "pygments_lexer": "ipython3",
   "version": "3.6.1"
  }
 },
 "nbformat": 4,
 "nbformat_minor": 0
}
